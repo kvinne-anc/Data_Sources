{
  "nbformat": 4,
  "nbformat_minor": 0,
  "metadata": {
    "colab": {
      "name": "FarmersMarket_DataExploration.ipynb",
      "provenance": [],
      "authorship_tag": "ABX9TyPPupSp1LyK+Qoh8yOH4RKx",
      "include_colab_link": true
    },
    "kernelspec": {
      "name": "python3",
      "display_name": "Python 3"
    }
  },
  "cells": [
    {
      "cell_type": "markdown",
      "metadata": {
        "id": "view-in-github",
        "colab_type": "text"
      },
      "source": [
        "<a href=\"https://colab.research.google.com/github/kvinne-anc/Farmers-Market-Project/blob/master/FarmersMarket_DataExploration.ipynb\" target=\"_parent\"><img src=\"https://colab.research.google.com/assets/colab-badge.svg\" alt=\"Open In Colab\"/></a>"
      ]
    },
    {
      "cell_type": "code",
      "metadata": {
        "id": "4s63tIs9nYuU"
      },
      "source": [
        "import pandas as pd \n",
        "import numpy as np\n"
      ],
      "execution_count": null,
      "outputs": []
    },
    {
      "cell_type": "code",
      "metadata": {
        "id": "CV2BS4ktQbOF",
        "colab": {
          "base_uri": "https://localhost:8080/",
          "height": 942
        },
        "outputId": "32619b9c-ac21-4abb-a6b4-8c8383ef963a"
      },
      "source": [
        "farm = pd.read_csv('/content/farmers_markets_from_usda.csv')\n",
        "farm"
      ],
      "execution_count": null,
      "outputs": [
        {
          "output_type": "execute_result",
          "data": {
            "text/html": [
              "<div>\n",
              "<style scoped>\n",
              "    .dataframe tbody tr th:only-of-type {\n",
              "        vertical-align: middle;\n",
              "    }\n",
              "\n",
              "    .dataframe tbody tr th {\n",
              "        vertical-align: top;\n",
              "    }\n",
              "\n",
              "    .dataframe thead th {\n",
              "        text-align: right;\n",
              "    }\n",
              "</style>\n",
              "<table border=\"1\" class=\"dataframe\">\n",
              "  <thead>\n",
              "    <tr style=\"text-align: right;\">\n",
              "      <th></th>\n",
              "      <th>FMID</th>\n",
              "      <th>MarketName</th>\n",
              "      <th>Website</th>\n",
              "      <th>Facebook</th>\n",
              "      <th>Twitter</th>\n",
              "      <th>Youtube</th>\n",
              "      <th>OtherMedia</th>\n",
              "      <th>street</th>\n",
              "      <th>city</th>\n",
              "      <th>County</th>\n",
              "      <th>State</th>\n",
              "      <th>zip</th>\n",
              "      <th>Season1Date</th>\n",
              "      <th>Season1Time</th>\n",
              "      <th>Season2Date</th>\n",
              "      <th>Season2Time</th>\n",
              "      <th>Season3Date</th>\n",
              "      <th>Season3Time</th>\n",
              "      <th>Season4Date</th>\n",
              "      <th>Season4Time</th>\n",
              "      <th>x</th>\n",
              "      <th>y</th>\n",
              "      <th>Location</th>\n",
              "      <th>Credit</th>\n",
              "      <th>WIC</th>\n",
              "      <th>WICcash</th>\n",
              "      <th>SFMNP</th>\n",
              "      <th>SNAP</th>\n",
              "      <th>Organic</th>\n",
              "      <th>Bakedgoods</th>\n",
              "      <th>Cheese</th>\n",
              "      <th>Crafts</th>\n",
              "      <th>Flowers</th>\n",
              "      <th>Eggs</th>\n",
              "      <th>Seafood</th>\n",
              "      <th>Herbs</th>\n",
              "      <th>Vegetables</th>\n",
              "      <th>Honey</th>\n",
              "      <th>Jams</th>\n",
              "      <th>Maple</th>\n",
              "      <th>Meat</th>\n",
              "      <th>Nursery</th>\n",
              "      <th>Nuts</th>\n",
              "      <th>Plants</th>\n",
              "      <th>Poultry</th>\n",
              "      <th>Prepared</th>\n",
              "      <th>Soap</th>\n",
              "      <th>Trees</th>\n",
              "      <th>Wine</th>\n",
              "      <th>Coffee</th>\n",
              "      <th>Beans</th>\n",
              "      <th>Fruits</th>\n",
              "      <th>Grains</th>\n",
              "      <th>Juices</th>\n",
              "      <th>Mushrooms</th>\n",
              "      <th>PetFood</th>\n",
              "      <th>Tofu</th>\n",
              "      <th>WildHarvested</th>\n",
              "      <th>updateTime</th>\n",
              "    </tr>\n",
              "  </thead>\n",
              "  <tbody>\n",
              "    <tr>\n",
              "      <th>0</th>\n",
              "      <td>1018261</td>\n",
              "      <td>Caledonia Farmers Market Association - Danville</td>\n",
              "      <td>https://sites.google.com/site/caledoniafarmers...</td>\n",
              "      <td>https://www.facebook.com/Danville.VT.Farmers.M...</td>\n",
              "      <td>NaN</td>\n",
              "      <td>NaN</td>\n",
              "      <td>NaN</td>\n",
              "      <td>NaN</td>\n",
              "      <td>Danville</td>\n",
              "      <td>Caledonia</td>\n",
              "      <td>Vermont</td>\n",
              "      <td>5828</td>\n",
              "      <td>06/14/2017 to 08/30/2017</td>\n",
              "      <td>Wed: 9:00 AM-1:00 PM;</td>\n",
              "      <td>09/06/2017 to 10/18/2017</td>\n",
              "      <td>Wed: 2:00 PM-6:00 PM;</td>\n",
              "      <td>NaN</td>\n",
              "      <td>NaN</td>\n",
              "      <td>NaN</td>\n",
              "      <td>NaN</td>\n",
              "      <td>-72.140335</td>\n",
              "      <td>44.411037</td>\n",
              "      <td>NaN</td>\n",
              "      <td>Y</td>\n",
              "      <td>Y</td>\n",
              "      <td>N</td>\n",
              "      <td>Y</td>\n",
              "      <td>N</td>\n",
              "      <td>Y</td>\n",
              "      <td>Y</td>\n",
              "      <td>Y</td>\n",
              "      <td>Y</td>\n",
              "      <td>Y</td>\n",
              "      <td>Y</td>\n",
              "      <td>N</td>\n",
              "      <td>Y</td>\n",
              "      <td>Y</td>\n",
              "      <td>Y</td>\n",
              "      <td>Y</td>\n",
              "      <td>Y</td>\n",
              "      <td>Y</td>\n",
              "      <td>N</td>\n",
              "      <td>N</td>\n",
              "      <td>N</td>\n",
              "      <td>Y</td>\n",
              "      <td>Y</td>\n",
              "      <td>Y</td>\n",
              "      <td>Y</td>\n",
              "      <td>N</td>\n",
              "      <td>Y</td>\n",
              "      <td>Y</td>\n",
              "      <td>Y</td>\n",
              "      <td>N</td>\n",
              "      <td>N</td>\n",
              "      <td>Y</td>\n",
              "      <td>Y</td>\n",
              "      <td>N</td>\n",
              "      <td>N</td>\n",
              "      <td>6/20/2017 22:43</td>\n",
              "    </tr>\n",
              "    <tr>\n",
              "      <th>1</th>\n",
              "      <td>1018318</td>\n",
              "      <td>Stearns Homestead Farmers' Market</td>\n",
              "      <td>http://www.StearnsHomestead.com</td>\n",
              "      <td>StearnsHomesteadFarmersMarket</td>\n",
              "      <td>NaN</td>\n",
              "      <td>NaN</td>\n",
              "      <td>NaN</td>\n",
              "      <td>6975 Ridge Road</td>\n",
              "      <td>Parma</td>\n",
              "      <td>Cuyahoga</td>\n",
              "      <td>Ohio</td>\n",
              "      <td>NaN</td>\n",
              "      <td>06/24/2017 to 09/30/2017</td>\n",
              "      <td>Sat: 9:00 AM-1:00 PM;</td>\n",
              "      <td>NaN</td>\n",
              "      <td>NaN</td>\n",
              "      <td>NaN</td>\n",
              "      <td>NaN</td>\n",
              "      <td>NaN</td>\n",
              "      <td>NaN</td>\n",
              "      <td>-81.733940</td>\n",
              "      <td>41.374802</td>\n",
              "      <td>NaN</td>\n",
              "      <td>Y</td>\n",
              "      <td>N</td>\n",
              "      <td>N</td>\n",
              "      <td>Y</td>\n",
              "      <td>N</td>\n",
              "      <td>-</td>\n",
              "      <td>Y</td>\n",
              "      <td>N</td>\n",
              "      <td>Y</td>\n",
              "      <td>Y</td>\n",
              "      <td>Y</td>\n",
              "      <td>N</td>\n",
              "      <td>Y</td>\n",
              "      <td>Y</td>\n",
              "      <td>Y</td>\n",
              "      <td>Y</td>\n",
              "      <td>Y</td>\n",
              "      <td>N</td>\n",
              "      <td>N</td>\n",
              "      <td>N</td>\n",
              "      <td>N</td>\n",
              "      <td>Y</td>\n",
              "      <td>N</td>\n",
              "      <td>Y</td>\n",
              "      <td>N</td>\n",
              "      <td>N</td>\n",
              "      <td>N</td>\n",
              "      <td>N</td>\n",
              "      <td>Y</td>\n",
              "      <td>N</td>\n",
              "      <td>N</td>\n",
              "      <td>N</td>\n",
              "      <td>N</td>\n",
              "      <td>N</td>\n",
              "      <td>N</td>\n",
              "      <td>6/21/2017 17:15</td>\n",
              "    </tr>\n",
              "    <tr>\n",
              "      <th>2</th>\n",
              "      <td>1009364</td>\n",
              "      <td>106 S. Main Street Farmers Market</td>\n",
              "      <td>http://thetownofsixmile.wordpress.com/</td>\n",
              "      <td>NaN</td>\n",
              "      <td>NaN</td>\n",
              "      <td>NaN</td>\n",
              "      <td>NaN</td>\n",
              "      <td>106 S. Main Street</td>\n",
              "      <td>Six Mile</td>\n",
              "      <td>Pickens</td>\n",
              "      <td>South Carolina</td>\n",
              "      <td>29682</td>\n",
              "      <td>NaN</td>\n",
              "      <td>NaN</td>\n",
              "      <td>NaN</td>\n",
              "      <td>NaN</td>\n",
              "      <td>NaN</td>\n",
              "      <td>NaN</td>\n",
              "      <td>NaN</td>\n",
              "      <td>NaN</td>\n",
              "      <td>-82.818703</td>\n",
              "      <td>34.804199</td>\n",
              "      <td>NaN</td>\n",
              "      <td>Y</td>\n",
              "      <td>N</td>\n",
              "      <td>N</td>\n",
              "      <td>N</td>\n",
              "      <td>N</td>\n",
              "      <td>-</td>\n",
              "      <td>NaN</td>\n",
              "      <td>NaN</td>\n",
              "      <td>NaN</td>\n",
              "      <td>NaN</td>\n",
              "      <td>NaN</td>\n",
              "      <td>NaN</td>\n",
              "      <td>NaN</td>\n",
              "      <td>NaN</td>\n",
              "      <td>NaN</td>\n",
              "      <td>NaN</td>\n",
              "      <td>NaN</td>\n",
              "      <td>NaN</td>\n",
              "      <td>NaN</td>\n",
              "      <td>NaN</td>\n",
              "      <td>NaN</td>\n",
              "      <td>NaN</td>\n",
              "      <td>NaN</td>\n",
              "      <td>NaN</td>\n",
              "      <td>NaN</td>\n",
              "      <td>NaN</td>\n",
              "      <td>NaN</td>\n",
              "      <td>NaN</td>\n",
              "      <td>NaN</td>\n",
              "      <td>NaN</td>\n",
              "      <td>NaN</td>\n",
              "      <td>NaN</td>\n",
              "      <td>NaN</td>\n",
              "      <td>NaN</td>\n",
              "      <td>NaN</td>\n",
              "      <td>2013</td>\n",
              "    </tr>\n",
              "    <tr>\n",
              "      <th>3</th>\n",
              "      <td>1010691</td>\n",
              "      <td>10th Steet Community Farmers Market</td>\n",
              "      <td>NaN</td>\n",
              "      <td>NaN</td>\n",
              "      <td>NaN</td>\n",
              "      <td>NaN</td>\n",
              "      <td>http://agrimissouri.com/mo-grown/grodetail.php...</td>\n",
              "      <td>10th Street and Poplar</td>\n",
              "      <td>Lamar</td>\n",
              "      <td>Barton</td>\n",
              "      <td>Missouri</td>\n",
              "      <td>64759</td>\n",
              "      <td>04/02/2014 to 11/30/2014</td>\n",
              "      <td>Wed: 3:00 PM-6:00 PM;Sat: 8:00 AM-1:00 PM;</td>\n",
              "      <td>NaN</td>\n",
              "      <td>NaN</td>\n",
              "      <td>NaN</td>\n",
              "      <td>NaN</td>\n",
              "      <td>NaN</td>\n",
              "      <td>NaN</td>\n",
              "      <td>-94.274620</td>\n",
              "      <td>37.495628</td>\n",
              "      <td>NaN</td>\n",
              "      <td>Y</td>\n",
              "      <td>N</td>\n",
              "      <td>N</td>\n",
              "      <td>N</td>\n",
              "      <td>N</td>\n",
              "      <td>-</td>\n",
              "      <td>Y</td>\n",
              "      <td>N</td>\n",
              "      <td>Y</td>\n",
              "      <td>N</td>\n",
              "      <td>Y</td>\n",
              "      <td>N</td>\n",
              "      <td>Y</td>\n",
              "      <td>Y</td>\n",
              "      <td>Y</td>\n",
              "      <td>Y</td>\n",
              "      <td>N</td>\n",
              "      <td>Y</td>\n",
              "      <td>N</td>\n",
              "      <td>N</td>\n",
              "      <td>Y</td>\n",
              "      <td>Y</td>\n",
              "      <td>Y</td>\n",
              "      <td>Y</td>\n",
              "      <td>N</td>\n",
              "      <td>N</td>\n",
              "      <td>N</td>\n",
              "      <td>N</td>\n",
              "      <td>Y</td>\n",
              "      <td>N</td>\n",
              "      <td>N</td>\n",
              "      <td>N</td>\n",
              "      <td>N</td>\n",
              "      <td>N</td>\n",
              "      <td>N</td>\n",
              "      <td>10/28/2014 9:49</td>\n",
              "    </tr>\n",
              "    <tr>\n",
              "      <th>4</th>\n",
              "      <td>1002454</td>\n",
              "      <td>112st Madison Avenue</td>\n",
              "      <td>NaN</td>\n",
              "      <td>NaN</td>\n",
              "      <td>NaN</td>\n",
              "      <td>NaN</td>\n",
              "      <td>NaN</td>\n",
              "      <td>112th Madison Avenue</td>\n",
              "      <td>New York</td>\n",
              "      <td>New York</td>\n",
              "      <td>New York</td>\n",
              "      <td>10029</td>\n",
              "      <td>July to November</td>\n",
              "      <td>Tue:8:00 am - 5:00 pm;Sat:8:00 am - 8:00 pm;</td>\n",
              "      <td>NaN</td>\n",
              "      <td>NaN</td>\n",
              "      <td>NaN</td>\n",
              "      <td>NaN</td>\n",
              "      <td>NaN</td>\n",
              "      <td>NaN</td>\n",
              "      <td>-73.949303</td>\n",
              "      <td>40.793900</td>\n",
              "      <td>Private business parking lot</td>\n",
              "      <td>N</td>\n",
              "      <td>N</td>\n",
              "      <td>Y</td>\n",
              "      <td>Y</td>\n",
              "      <td>N</td>\n",
              "      <td>-</td>\n",
              "      <td>Y</td>\n",
              "      <td>N</td>\n",
              "      <td>Y</td>\n",
              "      <td>Y</td>\n",
              "      <td>N</td>\n",
              "      <td>N</td>\n",
              "      <td>Y</td>\n",
              "      <td>Y</td>\n",
              "      <td>Y</td>\n",
              "      <td>Y</td>\n",
              "      <td>N</td>\n",
              "      <td>N</td>\n",
              "      <td>N</td>\n",
              "      <td>Y</td>\n",
              "      <td>N</td>\n",
              "      <td>N</td>\n",
              "      <td>Y</td>\n",
              "      <td>Y</td>\n",
              "      <td>N</td>\n",
              "      <td>N</td>\n",
              "      <td>N</td>\n",
              "      <td>N</td>\n",
              "      <td>N</td>\n",
              "      <td>N</td>\n",
              "      <td>N</td>\n",
              "      <td>N</td>\n",
              "      <td>N</td>\n",
              "      <td>N</td>\n",
              "      <td>N</td>\n",
              "      <td>3/1/2012 10:38</td>\n",
              "    </tr>\n",
              "    <tr>\n",
              "      <th>...</th>\n",
              "      <td>...</td>\n",
              "      <td>...</td>\n",
              "      <td>...</td>\n",
              "      <td>...</td>\n",
              "      <td>...</td>\n",
              "      <td>...</td>\n",
              "      <td>...</td>\n",
              "      <td>...</td>\n",
              "      <td>...</td>\n",
              "      <td>...</td>\n",
              "      <td>...</td>\n",
              "      <td>...</td>\n",
              "      <td>...</td>\n",
              "      <td>...</td>\n",
              "      <td>...</td>\n",
              "      <td>...</td>\n",
              "      <td>...</td>\n",
              "      <td>...</td>\n",
              "      <td>...</td>\n",
              "      <td>...</td>\n",
              "      <td>...</td>\n",
              "      <td>...</td>\n",
              "      <td>...</td>\n",
              "      <td>...</td>\n",
              "      <td>...</td>\n",
              "      <td>...</td>\n",
              "      <td>...</td>\n",
              "      <td>...</td>\n",
              "      <td>...</td>\n",
              "      <td>...</td>\n",
              "      <td>...</td>\n",
              "      <td>...</td>\n",
              "      <td>...</td>\n",
              "      <td>...</td>\n",
              "      <td>...</td>\n",
              "      <td>...</td>\n",
              "      <td>...</td>\n",
              "      <td>...</td>\n",
              "      <td>...</td>\n",
              "      <td>...</td>\n",
              "      <td>...</td>\n",
              "      <td>...</td>\n",
              "      <td>...</td>\n",
              "      <td>...</td>\n",
              "      <td>...</td>\n",
              "      <td>...</td>\n",
              "      <td>...</td>\n",
              "      <td>...</td>\n",
              "      <td>...</td>\n",
              "      <td>...</td>\n",
              "      <td>...</td>\n",
              "      <td>...</td>\n",
              "      <td>...</td>\n",
              "      <td>...</td>\n",
              "      <td>...</td>\n",
              "      <td>...</td>\n",
              "      <td>...</td>\n",
              "      <td>...</td>\n",
              "      <td>...</td>\n",
              "    </tr>\n",
              "    <tr>\n",
              "      <th>8799</th>\n",
              "      <td>1004767</td>\n",
              "      <td>Zia Bernalillo Farmers' Market</td>\n",
              "      <td>http://www.eatfreshnm.org/</td>\n",
              "      <td>https://www.facebook.com/farmersmarketsnm?ref=hl</td>\n",
              "      <td>NaN</td>\n",
              "      <td>NaN</td>\n",
              "      <td>NaN</td>\n",
              "      <td>335 S. Camino del Pueblo</td>\n",
              "      <td>Bernalillo</td>\n",
              "      <td>Sandoval</td>\n",
              "      <td>New Mexico</td>\n",
              "      <td>NaN</td>\n",
              "      <td>07/04/2014 to 10/24/2014</td>\n",
              "      <td>Fri: 4:00 PM-7:00 PM;</td>\n",
              "      <td>NaN</td>\n",
              "      <td>NaN</td>\n",
              "      <td>NaN</td>\n",
              "      <td>NaN</td>\n",
              "      <td>NaN</td>\n",
              "      <td>NaN</td>\n",
              "      <td>-106.546840</td>\n",
              "      <td>35.313705</td>\n",
              "      <td>Faith-based institution (e.g., church, mosque,...</td>\n",
              "      <td>N</td>\n",
              "      <td>Y</td>\n",
              "      <td>N</td>\n",
              "      <td>Y</td>\n",
              "      <td>Y</td>\n",
              "      <td>-</td>\n",
              "      <td>Y</td>\n",
              "      <td>Y</td>\n",
              "      <td>Y</td>\n",
              "      <td>N</td>\n",
              "      <td>Y</td>\n",
              "      <td>N</td>\n",
              "      <td>N</td>\n",
              "      <td>Y</td>\n",
              "      <td>Y</td>\n",
              "      <td>N</td>\n",
              "      <td>N</td>\n",
              "      <td>Y</td>\n",
              "      <td>N</td>\n",
              "      <td>N</td>\n",
              "      <td>N</td>\n",
              "      <td>N</td>\n",
              "      <td>N</td>\n",
              "      <td>N</td>\n",
              "      <td>N</td>\n",
              "      <td>N</td>\n",
              "      <td>N</td>\n",
              "      <td>Y</td>\n",
              "      <td>Y</td>\n",
              "      <td>N</td>\n",
              "      <td>N</td>\n",
              "      <td>N</td>\n",
              "      <td>N</td>\n",
              "      <td>N</td>\n",
              "      <td>N</td>\n",
              "      <td>6/5/2014 14:40</td>\n",
              "    </tr>\n",
              "    <tr>\n",
              "      <th>8800</th>\n",
              "      <td>1018362</td>\n",
              "      <td>Zimmerman Farmers' Market</td>\n",
              "      <td>http://Pzfarmersmarket.org</td>\n",
              "      <td>Princeton-zimmerman farmers market</td>\n",
              "      <td>NaN</td>\n",
              "      <td>NaN</td>\n",
              "      <td>NaN</td>\n",
              "      <td>25850 Main Street</td>\n",
              "      <td>Zimmerman</td>\n",
              "      <td>Sherburne</td>\n",
              "      <td>Minnesota</td>\n",
              "      <td>NaN</td>\n",
              "      <td>06/06/2017 to 10/03/2017</td>\n",
              "      <td>Tue: 2:30 PM-6:00 PM;</td>\n",
              "      <td>NaN</td>\n",
              "      <td>NaN</td>\n",
              "      <td>NaN</td>\n",
              "      <td>NaN</td>\n",
              "      <td>NaN</td>\n",
              "      <td>NaN</td>\n",
              "      <td>-93.583809</td>\n",
              "      <td>45.438774</td>\n",
              "      <td>NaN</td>\n",
              "      <td>Y</td>\n",
              "      <td>N</td>\n",
              "      <td>N</td>\n",
              "      <td>N</td>\n",
              "      <td>N</td>\n",
              "      <td>N</td>\n",
              "      <td>Y</td>\n",
              "      <td>N</td>\n",
              "      <td>Y</td>\n",
              "      <td>N</td>\n",
              "      <td>N</td>\n",
              "      <td>N</td>\n",
              "      <td>Y</td>\n",
              "      <td>Y</td>\n",
              "      <td>N</td>\n",
              "      <td>Y</td>\n",
              "      <td>N</td>\n",
              "      <td>N</td>\n",
              "      <td>N</td>\n",
              "      <td>N</td>\n",
              "      <td>Y</td>\n",
              "      <td>N</td>\n",
              "      <td>N</td>\n",
              "      <td>Y</td>\n",
              "      <td>N</td>\n",
              "      <td>N</td>\n",
              "      <td>N</td>\n",
              "      <td>N</td>\n",
              "      <td>Y</td>\n",
              "      <td>N</td>\n",
              "      <td>N</td>\n",
              "      <td>N</td>\n",
              "      <td>N</td>\n",
              "      <td>N</td>\n",
              "      <td>N</td>\n",
              "      <td>6/22/2017 19:37</td>\n",
              "    </tr>\n",
              "    <tr>\n",
              "      <th>8801</th>\n",
              "      <td>1012380</td>\n",
              "      <td>Zion Canyon Farmers Market</td>\n",
              "      <td>http://zionharvest.org</td>\n",
              "      <td>https://www.facebook.com/ZionCanyonFarmersMarket/</td>\n",
              "      <td>NaN</td>\n",
              "      <td>NaN</td>\n",
              "      <td>NaN</td>\n",
              "      <td>1212 Zion Park Blvd.</td>\n",
              "      <td>Springdale</td>\n",
              "      <td>Washington</td>\n",
              "      <td>Utah</td>\n",
              "      <td>84767</td>\n",
              "      <td>05/07/2016 to 10/15/2016</td>\n",
              "      <td>Sat: 9:00 AM-12:00 PM;</td>\n",
              "      <td>NaN</td>\n",
              "      <td>NaN</td>\n",
              "      <td>NaN</td>\n",
              "      <td>NaN</td>\n",
              "      <td>NaN</td>\n",
              "      <td>NaN</td>\n",
              "      <td>-113.004940</td>\n",
              "      <td>37.181499</td>\n",
              "      <td>NaN</td>\n",
              "      <td>Y</td>\n",
              "      <td>N</td>\n",
              "      <td>N</td>\n",
              "      <td>N</td>\n",
              "      <td>N</td>\n",
              "      <td>N</td>\n",
              "      <td>Y</td>\n",
              "      <td>N</td>\n",
              "      <td>Y</td>\n",
              "      <td>N</td>\n",
              "      <td>Y</td>\n",
              "      <td>N</td>\n",
              "      <td>Y</td>\n",
              "      <td>Y</td>\n",
              "      <td>Y</td>\n",
              "      <td>Y</td>\n",
              "      <td>N</td>\n",
              "      <td>Y</td>\n",
              "      <td>N</td>\n",
              "      <td>Y</td>\n",
              "      <td>Y</td>\n",
              "      <td>Y</td>\n",
              "      <td>Y</td>\n",
              "      <td>Y</td>\n",
              "      <td>N</td>\n",
              "      <td>N</td>\n",
              "      <td>Y</td>\n",
              "      <td>N</td>\n",
              "      <td>Y</td>\n",
              "      <td>N</td>\n",
              "      <td>N</td>\n",
              "      <td>Y</td>\n",
              "      <td>N</td>\n",
              "      <td>N</td>\n",
              "      <td>N</td>\n",
              "      <td>7/9/2016 17:00</td>\n",
              "    </tr>\n",
              "    <tr>\n",
              "      <th>8802</th>\n",
              "      <td>1004686</td>\n",
              "      <td>Zionsville Farmers Market</td>\n",
              "      <td>http://www.zionsvillefarmersmarket.org</td>\n",
              "      <td>NaN</td>\n",
              "      <td>NaN</td>\n",
              "      <td>NaN</td>\n",
              "      <td>NaN</td>\n",
              "      <td>Hawthorne &amp; Main Street</td>\n",
              "      <td>Zionsville</td>\n",
              "      <td>Boone</td>\n",
              "      <td>Indiana</td>\n",
              "      <td>46077</td>\n",
              "      <td>NaN</td>\n",
              "      <td>NaN</td>\n",
              "      <td>NaN</td>\n",
              "      <td>NaN</td>\n",
              "      <td>NaN</td>\n",
              "      <td>NaN</td>\n",
              "      <td>NaN</td>\n",
              "      <td>NaN</td>\n",
              "      <td>-86.261200</td>\n",
              "      <td>39.949100</td>\n",
              "      <td>NaN</td>\n",
              "      <td>N</td>\n",
              "      <td>N</td>\n",
              "      <td>N</td>\n",
              "      <td>N</td>\n",
              "      <td>N</td>\n",
              "      <td>-</td>\n",
              "      <td>NaN</td>\n",
              "      <td>NaN</td>\n",
              "      <td>NaN</td>\n",
              "      <td>NaN</td>\n",
              "      <td>NaN</td>\n",
              "      <td>NaN</td>\n",
              "      <td>NaN</td>\n",
              "      <td>NaN</td>\n",
              "      <td>NaN</td>\n",
              "      <td>NaN</td>\n",
              "      <td>NaN</td>\n",
              "      <td>NaN</td>\n",
              "      <td>NaN</td>\n",
              "      <td>NaN</td>\n",
              "      <td>NaN</td>\n",
              "      <td>NaN</td>\n",
              "      <td>NaN</td>\n",
              "      <td>NaN</td>\n",
              "      <td>NaN</td>\n",
              "      <td>NaN</td>\n",
              "      <td>NaN</td>\n",
              "      <td>NaN</td>\n",
              "      <td>NaN</td>\n",
              "      <td>NaN</td>\n",
              "      <td>NaN</td>\n",
              "      <td>NaN</td>\n",
              "      <td>NaN</td>\n",
              "      <td>NaN</td>\n",
              "      <td>NaN</td>\n",
              "      <td>2009</td>\n",
              "    </tr>\n",
              "    <tr>\n",
              "      <th>8803</th>\n",
              "      <td>1011418</td>\n",
              "      <td>Zona Rosa Farmers' Market</td>\n",
              "      <td>NaN</td>\n",
              "      <td>NaN</td>\n",
              "      <td>NaN</td>\n",
              "      <td>NaN</td>\n",
              "      <td>NaN</td>\n",
              "      <td>Off of I-29 and Barry Road</td>\n",
              "      <td>Kansas City</td>\n",
              "      <td>Platte</td>\n",
              "      <td>Missouri</td>\n",
              "      <td>64153</td>\n",
              "      <td>06/01/2015 to 09/30/2015</td>\n",
              "      <td>Tue: 4:00 PM-8:00 PM;</td>\n",
              "      <td>NaN</td>\n",
              "      <td>NaN</td>\n",
              "      <td>NaN</td>\n",
              "      <td>NaN</td>\n",
              "      <td>NaN</td>\n",
              "      <td>NaN</td>\n",
              "      <td>-94.580864</td>\n",
              "      <td>39.246319</td>\n",
              "      <td>NaN</td>\n",
              "      <td>Y</td>\n",
              "      <td>N</td>\n",
              "      <td>N</td>\n",
              "      <td>N</td>\n",
              "      <td>N</td>\n",
              "      <td>-</td>\n",
              "      <td>Y</td>\n",
              "      <td>N</td>\n",
              "      <td>N</td>\n",
              "      <td>N</td>\n",
              "      <td>N</td>\n",
              "      <td>N</td>\n",
              "      <td>N</td>\n",
              "      <td>Y</td>\n",
              "      <td>Y</td>\n",
              "      <td>Y</td>\n",
              "      <td>N</td>\n",
              "      <td>N</td>\n",
              "      <td>N</td>\n",
              "      <td>N</td>\n",
              "      <td>N</td>\n",
              "      <td>N</td>\n",
              "      <td>N</td>\n",
              "      <td>N</td>\n",
              "      <td>Y</td>\n",
              "      <td>N</td>\n",
              "      <td>N</td>\n",
              "      <td>N</td>\n",
              "      <td>Y</td>\n",
              "      <td>N</td>\n",
              "      <td>N</td>\n",
              "      <td>N</td>\n",
              "      <td>N</td>\n",
              "      <td>N</td>\n",
              "      <td>N</td>\n",
              "      <td>9/4/2015 9:48</td>\n",
              "    </tr>\n",
              "  </tbody>\n",
              "</table>\n",
              "<p>8804 rows × 59 columns</p>\n",
              "</div>"
            ],
            "text/plain": [
              "         FMID  ...       updateTime\n",
              "0     1018261  ...  6/20/2017 22:43\n",
              "1     1018318  ...  6/21/2017 17:15\n",
              "2     1009364  ...             2013\n",
              "3     1010691  ...  10/28/2014 9:49\n",
              "4     1002454  ...   3/1/2012 10:38\n",
              "...       ...  ...              ...\n",
              "8799  1004767  ...   6/5/2014 14:40\n",
              "8800  1018362  ...  6/22/2017 19:37\n",
              "8801  1012380  ...   7/9/2016 17:00\n",
              "8802  1004686  ...             2009\n",
              "8803  1011418  ...    9/4/2015 9:48\n",
              "\n",
              "[8804 rows x 59 columns]"
            ]
          },
          "metadata": {
            "tags": []
          },
          "execution_count": 2
        }
      ]
    },
    {
      "cell_type": "code",
      "metadata": {
        "id": "Kjn5x7msQ09l",
        "colab": {
          "base_uri": "https://localhost:8080/",
          "height": 202
        },
        "outputId": "a0795eef-1e95-4537-ba76-81ba62fbcd69"
      },
      "source": [
        "farm.columns"
      ],
      "execution_count": null,
      "outputs": [
        {
          "output_type": "execute_result",
          "data": {
            "text/plain": [
              "Index(['FMID', 'MarketName', 'Website', 'Facebook', 'Twitter', 'Youtube',\n",
              "       'OtherMedia', 'street', 'city', 'County', 'State', 'zip', 'Season1Date',\n",
              "       'Season1Time', 'Season2Date', 'Season2Time', 'Season3Date',\n",
              "       'Season3Time', 'Season4Date', 'Season4Time', 'x', 'y', 'Location',\n",
              "       'Credit', 'WIC', 'WICcash', 'SFMNP', 'SNAP', 'Organic', 'Bakedgoods',\n",
              "       'Cheese', 'Crafts', 'Flowers', 'Eggs', 'Seafood', 'Herbs', 'Vegetables',\n",
              "       'Honey', 'Jams', 'Maple', 'Meat', 'Nursery', 'Nuts', 'Plants',\n",
              "       'Poultry', 'Prepared', 'Soap', 'Trees', 'Wine', 'Coffee', 'Beans',\n",
              "       'Fruits', 'Grains', 'Juices', 'Mushrooms', 'PetFood', 'Tofu',\n",
              "       'WildHarvested', 'updateTime'],\n",
              "      dtype='object')"
            ]
          },
          "metadata": {
            "tags": []
          },
          "execution_count": 3
        }
      ]
    },
    {
      "cell_type": "code",
      "metadata": {
        "id": "g512xGr8f-5g"
      },
      "source": [
        "#Dropping unnecessary columns "
      ],
      "execution_count": null,
      "outputs": []
    },
    {
      "cell_type": "code",
      "metadata": {
        "id": "zn_rEp5hREiY",
        "colab": {
          "base_uri": "https://localhost:8080/",
          "height": 195
        },
        "outputId": "8beb9344-bac0-4313-ed5c-b5d98292552b"
      },
      "source": [
        "farm = farm.drop(['FMID', 'Website', 'Facebook', 'Twitter', 'Youtube',\n",
        "       'OtherMedia', 'street', 'County', 'zip', 'Season1Date',\n",
        "       'Season1Time', 'Season2Date', 'Season2Time', 'Season3Date',\n",
        "       'Season3Time', 'Season4Date', 'Season4Time', 'Location',\n",
        "       'Organic', 'Bakedgoods',\n",
        "       'Cheese', 'Crafts', 'Flowers', 'Eggs', 'Seafood', 'Herbs', 'Vegetables',\n",
        "       'Honey', 'Jams', 'Maple', 'Meat', 'Nursery', 'Nuts', 'Plants',\n",
        "       'Poultry', 'Prepared', 'Soap', 'Trees', 'Wine', 'Coffee', 'Beans',\n",
        "       'Fruits', 'Grains', 'Juices', 'Mushrooms', 'PetFood', 'Tofu',\n",
        "       'WildHarvested', 'updateTime'], axis=1)\n",
        "farm.head()"
      ],
      "execution_count": null,
      "outputs": [
        {
          "output_type": "execute_result",
          "data": {
            "text/html": [
              "<div>\n",
              "<style scoped>\n",
              "    .dataframe tbody tr th:only-of-type {\n",
              "        vertical-align: middle;\n",
              "    }\n",
              "\n",
              "    .dataframe tbody tr th {\n",
              "        vertical-align: top;\n",
              "    }\n",
              "\n",
              "    .dataframe thead th {\n",
              "        text-align: right;\n",
              "    }\n",
              "</style>\n",
              "<table border=\"1\" class=\"dataframe\">\n",
              "  <thead>\n",
              "    <tr style=\"text-align: right;\">\n",
              "      <th></th>\n",
              "      <th>MarketName</th>\n",
              "      <th>city</th>\n",
              "      <th>State</th>\n",
              "      <th>x</th>\n",
              "      <th>y</th>\n",
              "      <th>Credit</th>\n",
              "      <th>WIC</th>\n",
              "      <th>WICcash</th>\n",
              "      <th>SFMNP</th>\n",
              "      <th>SNAP</th>\n",
              "    </tr>\n",
              "  </thead>\n",
              "  <tbody>\n",
              "    <tr>\n",
              "      <th>0</th>\n",
              "      <td>Caledonia Farmers Market Association - Danville</td>\n",
              "      <td>Danville</td>\n",
              "      <td>Vermont</td>\n",
              "      <td>-72.140335</td>\n",
              "      <td>44.411037</td>\n",
              "      <td>Y</td>\n",
              "      <td>Y</td>\n",
              "      <td>N</td>\n",
              "      <td>Y</td>\n",
              "      <td>N</td>\n",
              "    </tr>\n",
              "    <tr>\n",
              "      <th>1</th>\n",
              "      <td>Stearns Homestead Farmers' Market</td>\n",
              "      <td>Parma</td>\n",
              "      <td>Ohio</td>\n",
              "      <td>-81.733940</td>\n",
              "      <td>41.374802</td>\n",
              "      <td>Y</td>\n",
              "      <td>N</td>\n",
              "      <td>N</td>\n",
              "      <td>Y</td>\n",
              "      <td>N</td>\n",
              "    </tr>\n",
              "    <tr>\n",
              "      <th>2</th>\n",
              "      <td>106 S. Main Street Farmers Market</td>\n",
              "      <td>Six Mile</td>\n",
              "      <td>South Carolina</td>\n",
              "      <td>-82.818703</td>\n",
              "      <td>34.804199</td>\n",
              "      <td>Y</td>\n",
              "      <td>N</td>\n",
              "      <td>N</td>\n",
              "      <td>N</td>\n",
              "      <td>N</td>\n",
              "    </tr>\n",
              "    <tr>\n",
              "      <th>3</th>\n",
              "      <td>10th Steet Community Farmers Market</td>\n",
              "      <td>Lamar</td>\n",
              "      <td>Missouri</td>\n",
              "      <td>-94.274620</td>\n",
              "      <td>37.495628</td>\n",
              "      <td>Y</td>\n",
              "      <td>N</td>\n",
              "      <td>N</td>\n",
              "      <td>N</td>\n",
              "      <td>N</td>\n",
              "    </tr>\n",
              "    <tr>\n",
              "      <th>4</th>\n",
              "      <td>112st Madison Avenue</td>\n",
              "      <td>New York</td>\n",
              "      <td>New York</td>\n",
              "      <td>-73.949303</td>\n",
              "      <td>40.793900</td>\n",
              "      <td>N</td>\n",
              "      <td>N</td>\n",
              "      <td>Y</td>\n",
              "      <td>Y</td>\n",
              "      <td>N</td>\n",
              "    </tr>\n",
              "  </tbody>\n",
              "</table>\n",
              "</div>"
            ],
            "text/plain": [
              "                                         MarketName      city  ... SFMNP  SNAP\n",
              "0   Caledonia Farmers Market Association - Danville  Danville  ...     Y     N\n",
              "1                 Stearns Homestead Farmers' Market    Parma   ...     Y     N\n",
              "2                 106 S. Main Street Farmers Market  Six Mile  ...     N     N\n",
              "3               10th Steet Community Farmers Market    Lamar   ...     N     N\n",
              "4                              112st Madison Avenue  New York  ...     Y     N\n",
              "\n",
              "[5 rows x 10 columns]"
            ]
          },
          "metadata": {
            "tags": []
          },
          "execution_count": 5
        }
      ]
    },
    {
      "cell_type": "code",
      "metadata": {
        "id": "5pZyLRcYR-Lp"
      },
      "source": [
        "#x is longitud and y is latitud; ie. 44N and -72E is in Vermont\n",
        "#Focusing on New York State"
      ],
      "execution_count": null,
      "outputs": []
    },
    {
      "cell_type": "code",
      "metadata": {
        "id": "4dagzeBmRwig",
        "colab": {
          "base_uri": "https://localhost:8080/",
          "height": 34
        },
        "outputId": "aae4b526-9c76-4de0-a8da-938f8282c2a5"
      },
      "source": [
        "farm.shape"
      ],
      "execution_count": null,
      "outputs": [
        {
          "output_type": "execute_result",
          "data": {
            "text/plain": [
              "(8804, 10)"
            ]
          },
          "metadata": {
            "tags": []
          },
          "execution_count": 7
        }
      ]
    },
    {
      "cell_type": "code",
      "metadata": {
        "id": "gt3npAE_UGGE",
        "colab": {
          "base_uri": "https://localhost:8080/",
          "height": 34
        },
        "outputId": "e9df9099-3d52-40c0-c21f-5fee254a37ea"
      },
      "source": [
        "farm['State'].nunique()"
      ],
      "execution_count": null,
      "outputs": [
        {
          "output_type": "execute_result",
          "data": {
            "text/plain": [
              "53"
            ]
          },
          "metadata": {
            "tags": []
          },
          "execution_count": 8
        }
      ]
    },
    {
      "cell_type": "code",
      "metadata": {
        "id": "iQlOQeYWR1OK",
        "colab": {
          "base_uri": "https://localhost:8080/",
          "height": 195
        },
        "outputId": "6a008947-bfe2-4c3f-946f-b8b515a15ba2"
      },
      "source": [
        "farm = farm[farm.State != 'Vermont']\n",
        "farm.head()"
      ],
      "execution_count": null,
      "outputs": [
        {
          "output_type": "execute_result",
          "data": {
            "text/html": [
              "<div>\n",
              "<style scoped>\n",
              "    .dataframe tbody tr th:only-of-type {\n",
              "        vertical-align: middle;\n",
              "    }\n",
              "\n",
              "    .dataframe tbody tr th {\n",
              "        vertical-align: top;\n",
              "    }\n",
              "\n",
              "    .dataframe thead th {\n",
              "        text-align: right;\n",
              "    }\n",
              "</style>\n",
              "<table border=\"1\" class=\"dataframe\">\n",
              "  <thead>\n",
              "    <tr style=\"text-align: right;\">\n",
              "      <th></th>\n",
              "      <th>MarketName</th>\n",
              "      <th>city</th>\n",
              "      <th>State</th>\n",
              "      <th>x</th>\n",
              "      <th>y</th>\n",
              "      <th>Credit</th>\n",
              "      <th>WIC</th>\n",
              "      <th>WICcash</th>\n",
              "      <th>SFMNP</th>\n",
              "      <th>SNAP</th>\n",
              "    </tr>\n",
              "  </thead>\n",
              "  <tbody>\n",
              "    <tr>\n",
              "      <th>1</th>\n",
              "      <td>Stearns Homestead Farmers' Market</td>\n",
              "      <td>Parma</td>\n",
              "      <td>Ohio</td>\n",
              "      <td>-81.733940</td>\n",
              "      <td>41.374802</td>\n",
              "      <td>Y</td>\n",
              "      <td>N</td>\n",
              "      <td>N</td>\n",
              "      <td>Y</td>\n",
              "      <td>N</td>\n",
              "    </tr>\n",
              "    <tr>\n",
              "      <th>2</th>\n",
              "      <td>106 S. Main Street Farmers Market</td>\n",
              "      <td>Six Mile</td>\n",
              "      <td>South Carolina</td>\n",
              "      <td>-82.818703</td>\n",
              "      <td>34.804199</td>\n",
              "      <td>Y</td>\n",
              "      <td>N</td>\n",
              "      <td>N</td>\n",
              "      <td>N</td>\n",
              "      <td>N</td>\n",
              "    </tr>\n",
              "    <tr>\n",
              "      <th>3</th>\n",
              "      <td>10th Steet Community Farmers Market</td>\n",
              "      <td>Lamar</td>\n",
              "      <td>Missouri</td>\n",
              "      <td>-94.274620</td>\n",
              "      <td>37.495628</td>\n",
              "      <td>Y</td>\n",
              "      <td>N</td>\n",
              "      <td>N</td>\n",
              "      <td>N</td>\n",
              "      <td>N</td>\n",
              "    </tr>\n",
              "    <tr>\n",
              "      <th>4</th>\n",
              "      <td>112st Madison Avenue</td>\n",
              "      <td>New York</td>\n",
              "      <td>New York</td>\n",
              "      <td>-73.949303</td>\n",
              "      <td>40.793900</td>\n",
              "      <td>N</td>\n",
              "      <td>N</td>\n",
              "      <td>Y</td>\n",
              "      <td>Y</td>\n",
              "      <td>N</td>\n",
              "    </tr>\n",
              "    <tr>\n",
              "      <th>5</th>\n",
              "      <td>12 South Farmers Market</td>\n",
              "      <td>Nashville</td>\n",
              "      <td>Tennessee</td>\n",
              "      <td>-86.790710</td>\n",
              "      <td>36.118370</td>\n",
              "      <td>Y</td>\n",
              "      <td>N</td>\n",
              "      <td>N</td>\n",
              "      <td>N</td>\n",
              "      <td>Y</td>\n",
              "    </tr>\n",
              "  </tbody>\n",
              "</table>\n",
              "</div>"
            ],
            "text/plain": [
              "                            MarketName       city  ... SFMNP  SNAP\n",
              "1    Stearns Homestead Farmers' Market     Parma   ...     Y     N\n",
              "2    106 S. Main Street Farmers Market   Six Mile  ...     N     N\n",
              "3  10th Steet Community Farmers Market     Lamar   ...     N     N\n",
              "4                 112st Madison Avenue   New York  ...     Y     N\n",
              "5              12 South Farmers Market  Nashville  ...     N     Y\n",
              "\n",
              "[5 rows x 10 columns]"
            ]
          },
          "metadata": {
            "tags": []
          },
          "execution_count": 9
        }
      ]
    },
    {
      "cell_type": "code",
      "metadata": {
        "id": "coXIoG93gGoa"
      },
      "source": [
        "#Dropping unnecessary States"
      ],
      "execution_count": null,
      "outputs": []
    },
    {
      "cell_type": "code",
      "metadata": {
        "id": "kbUVKlkDWECX"
      },
      "source": [
        "farm = farm[farm.State != 'Alaska']"
      ],
      "execution_count": null,
      "outputs": []
    },
    {
      "cell_type": "code",
      "metadata": {
        "id": "8mYcQhPaWOuG"
      },
      "source": [
        "farm = farm[farm.State != 'Alabama']"
      ],
      "execution_count": null,
      "outputs": []
    },
    {
      "cell_type": "code",
      "metadata": {
        "id": "8o5zwwQhWRob"
      },
      "source": [
        "farm = farm[farm.State != 'Arkansas']"
      ],
      "execution_count": null,
      "outputs": []
    },
    {
      "cell_type": "code",
      "metadata": {
        "id": "fTvkx1wAWUpY"
      },
      "source": [
        "farm = farm[farm.State != 'California']"
      ],
      "execution_count": null,
      "outputs": []
    },
    {
      "cell_type": "code",
      "metadata": {
        "id": "dxlYxa41WXlT"
      },
      "source": [
        "farm = farm[farm.State != 'Colorado']"
      ],
      "execution_count": null,
      "outputs": []
    },
    {
      "cell_type": "code",
      "metadata": {
        "id": "Owl_l50cWZkU"
      },
      "source": [
        "farm = farm[farm.State != 'Connecticut']"
      ],
      "execution_count": null,
      "outputs": []
    },
    {
      "cell_type": "code",
      "metadata": {
        "id": "rc2QJYe0Wo4g"
      },
      "source": [
        "farm = farm[farm.State != 'Arizona']"
      ],
      "execution_count": null,
      "outputs": []
    },
    {
      "cell_type": "code",
      "metadata": {
        "id": "A6j_IPCjWrKY"
      },
      "source": [
        "farm = farm[farm.State != 'Delaware']"
      ],
      "execution_count": null,
      "outputs": []
    },
    {
      "cell_type": "code",
      "metadata": {
        "id": "0HCHOJCVWx9D"
      },
      "source": [
        "farm = farm[farm.State != 'Florida']"
      ],
      "execution_count": null,
      "outputs": []
    },
    {
      "cell_type": "code",
      "metadata": {
        "id": "On5ivIeGWz-K"
      },
      "source": [
        "farm = farm[farm.State != 'Georgia']"
      ],
      "execution_count": null,
      "outputs": []
    },
    {
      "cell_type": "code",
      "metadata": {
        "id": "TRHaMuJHW1m1"
      },
      "source": [
        "farm = farm[farm.State != 'Hawaii']"
      ],
      "execution_count": null,
      "outputs": []
    },
    {
      "cell_type": "code",
      "metadata": {
        "id": "Nb9fhLO8W3ME"
      },
      "source": [
        "farm = farm[farm.State != 'Idaho']"
      ],
      "execution_count": null,
      "outputs": []
    },
    {
      "cell_type": "code",
      "metadata": {
        "id": "mRVccqZrW4qT"
      },
      "source": [
        "farm = farm[farm.State != 'Indiana']"
      ],
      "execution_count": null,
      "outputs": []
    },
    {
      "cell_type": "code",
      "metadata": {
        "id": "WpxmMxO6W6sU"
      },
      "source": [
        "farm = farm[farm.State != 'Iowa']"
      ],
      "execution_count": null,
      "outputs": []
    },
    {
      "cell_type": "code",
      "metadata": {
        "id": "DQ96XWK9W8Ti"
      },
      "source": [
        "farm = farm[farm.State != 'Kansas']"
      ],
      "execution_count": null,
      "outputs": []
    },
    {
      "cell_type": "code",
      "metadata": {
        "id": "7KhQYYaYW_pY"
      },
      "source": [
        "farm = farm[farm.State != 'Kentucky']"
      ],
      "execution_count": null,
      "outputs": []
    },
    {
      "cell_type": "code",
      "metadata": {
        "id": "_HJCiSKHXBPI"
      },
      "source": [
        "farm = farm[farm.State != 'Louisiana']"
      ],
      "execution_count": null,
      "outputs": []
    },
    {
      "cell_type": "code",
      "metadata": {
        "id": "h8HzAJxXXDgY"
      },
      "source": [
        "farm = farm[farm.State != 'Mississippi']"
      ],
      "execution_count": null,
      "outputs": []
    },
    {
      "cell_type": "code",
      "metadata": {
        "id": "nTMFcafQXGj7"
      },
      "source": [
        "farm = farm[farm.State != 'Michigan']"
      ],
      "execution_count": null,
      "outputs": []
    },
    {
      "cell_type": "code",
      "metadata": {
        "id": "6EI1qUHlXH9K"
      },
      "source": [
        "farm = farm[farm.State != 'Montana']"
      ],
      "execution_count": null,
      "outputs": []
    },
    {
      "cell_type": "code",
      "metadata": {
        "id": "dZFwRgS5XJfx"
      },
      "source": [
        "farm = farm[farm.State != 'Missouri']"
      ],
      "execution_count": null,
      "outputs": []
    },
    {
      "cell_type": "code",
      "metadata": {
        "id": "gwa5F8rMXPL4"
      },
      "source": [
        "farm = farm[farm.State != 'Maine']"
      ],
      "execution_count": null,
      "outputs": []
    },
    {
      "cell_type": "code",
      "metadata": {
        "id": "F16zNcUpXQW1"
      },
      "source": [
        "farm = farm[farm.State != 'Illinois']"
      ],
      "execution_count": null,
      "outputs": []
    },
    {
      "cell_type": "code",
      "metadata": {
        "id": "YPRydcFhXR8K"
      },
      "source": [
        "farm = farm[farm.State != 'Maryland']"
      ],
      "execution_count": null,
      "outputs": []
    },
    {
      "cell_type": "code",
      "metadata": {
        "id": "SQJ9T3TgXYUK"
      },
      "source": [
        "farm = farm[farm.State != 'Minnesota']"
      ],
      "execution_count": null,
      "outputs": []
    },
    {
      "cell_type": "code",
      "metadata": {
        "id": "Ci_nlhGQXaA3"
      },
      "source": [
        "farm = farm[farm.State != 'Nevada']"
      ],
      "execution_count": null,
      "outputs": []
    },
    {
      "cell_type": "code",
      "metadata": {
        "id": "ffBy-VJFXbmN"
      },
      "source": [
        "farm = farm[farm.State != 'Nebraska']"
      ],
      "execution_count": null,
      "outputs": []
    },
    {
      "cell_type": "code",
      "metadata": {
        "id": "lv_puaqdXdd9"
      },
      "source": [
        "farm = farm[farm.State != 'North Dakota']"
      ],
      "execution_count": null,
      "outputs": []
    },
    {
      "cell_type": "code",
      "metadata": {
        "id": "7dwpXgvYXfZm"
      },
      "source": [
        "farm = farm[farm.State != 'North Carolina']"
      ],
      "execution_count": null,
      "outputs": []
    },
    {
      "cell_type": "code",
      "metadata": {
        "id": "PHSyL_oVXhM2"
      },
      "source": [
        "farm = farm[farm.State != 'New Jersey']"
      ],
      "execution_count": null,
      "outputs": []
    },
    {
      "cell_type": "code",
      "metadata": {
        "id": "HeD48w8GXjPL"
      },
      "source": [
        "farm = farm[farm.State != 'New Hampshire']"
      ],
      "execution_count": null,
      "outputs": []
    },
    {
      "cell_type": "code",
      "metadata": {
        "id": "btLgTBkcXlY-"
      },
      "source": [
        "farm = farm[farm.State != 'New Mexico']"
      ],
      "execution_count": null,
      "outputs": []
    },
    {
      "cell_type": "code",
      "metadata": {
        "id": "vr56c4EyXnCr"
      },
      "source": [
        "farm = farm[farm.State != 'Ohio']"
      ],
      "execution_count": null,
      "outputs": []
    },
    {
      "cell_type": "code",
      "metadata": {
        "id": "ZnWXbT-bXoj9"
      },
      "source": [
        "farm = farm[farm.State != 'Oklahoma']"
      ],
      "execution_count": null,
      "outputs": []
    },
    {
      "cell_type": "code",
      "metadata": {
        "id": "931ZaOsCXp7q"
      },
      "source": [
        "farm = farm[farm.State != 'Oregon']"
      ],
      "execution_count": null,
      "outputs": []
    },
    {
      "cell_type": "code",
      "metadata": {
        "id": "L8QiWQybXvhh"
      },
      "source": [
        "farm = farm[farm.State != 'Pennsylvania']"
      ],
      "execution_count": null,
      "outputs": []
    },
    {
      "cell_type": "code",
      "metadata": {
        "id": "3wiFHP8VXxuR"
      },
      "source": [
        "farm = farm[farm.State != 'Rhode Island']"
      ],
      "execution_count": null,
      "outputs": []
    },
    {
      "cell_type": "code",
      "metadata": {
        "id": "rXAW-mgTXz4D"
      },
      "source": [
        "farm = farm[farm.State != 'South Dakota']"
      ],
      "execution_count": null,
      "outputs": []
    },
    {
      "cell_type": "code",
      "metadata": {
        "id": "RbQMxDkoX2Fw"
      },
      "source": [
        "farm = farm[farm.State != 'South Carolina']"
      ],
      "execution_count": null,
      "outputs": []
    },
    {
      "cell_type": "code",
      "metadata": {
        "id": "9u5c_XCQX35-"
      },
      "source": [
        "farm = farm[farm.State != 'Tennessee']"
      ],
      "execution_count": null,
      "outputs": []
    },
    {
      "cell_type": "code",
      "metadata": {
        "id": "y1xXvzUsX5mv"
      },
      "source": [
        "farm = farm[farm.State != 'Texas']"
      ],
      "execution_count": null,
      "outputs": []
    },
    {
      "cell_type": "code",
      "metadata": {
        "id": "PvFLDxHyX685"
      },
      "source": [
        "farm = farm[farm.State != 'Utah']"
      ],
      "execution_count": null,
      "outputs": []
    },
    {
      "cell_type": "code",
      "metadata": {
        "id": "tMVjPcBXX8iK"
      },
      "source": [
        "farm = farm[farm.State != 'Virginia']"
      ],
      "execution_count": null,
      "outputs": []
    },
    {
      "cell_type": "code",
      "metadata": {
        "id": "-wye9vwlYBZI"
      },
      "source": [
        "farm = farm[farm.State != 'West Virginia']"
      ],
      "execution_count": null,
      "outputs": []
    },
    {
      "cell_type": "code",
      "metadata": {
        "id": "JzpOSPZvYDbW"
      },
      "source": [
        "farm = farm[farm.State != 'Washington']"
      ],
      "execution_count": null,
      "outputs": []
    },
    {
      "cell_type": "code",
      "metadata": {
        "id": "dg3OrCGAYFnr"
      },
      "source": [
        "farm = farm[farm.State != 'Wisconsin']"
      ],
      "execution_count": null,
      "outputs": []
    },
    {
      "cell_type": "code",
      "metadata": {
        "id": "NZbK7zLZYOZA"
      },
      "source": [
        "farm = farm[farm.State != 'District of Columbia']"
      ],
      "execution_count": null,
      "outputs": []
    },
    {
      "cell_type": "code",
      "metadata": {
        "id": "d9hgdNZbYTW7"
      },
      "source": [
        "farm = farm[farm.State != 'Massachusetts']"
      ],
      "execution_count": null,
      "outputs": []
    },
    {
      "cell_type": "code",
      "metadata": {
        "id": "yM-MOzeHYHns",
        "colab": {
          "base_uri": "https://localhost:8080/",
          "height": 402
        },
        "outputId": "01dac533-6803-43b8-bdf5-064d4cb36235"
      },
      "source": [
        "farm = farm[farm.State != 'Wyoming']\n",
        "farm"
      ],
      "execution_count": null,
      "outputs": [
        {
          "output_type": "execute_result",
          "data": {
            "text/html": [
              "<div>\n",
              "<style scoped>\n",
              "    .dataframe tbody tr th:only-of-type {\n",
              "        vertical-align: middle;\n",
              "    }\n",
              "\n",
              "    .dataframe tbody tr th {\n",
              "        vertical-align: top;\n",
              "    }\n",
              "\n",
              "    .dataframe thead th {\n",
              "        text-align: right;\n",
              "    }\n",
              "</style>\n",
              "<table border=\"1\" class=\"dataframe\">\n",
              "  <thead>\n",
              "    <tr style=\"text-align: right;\">\n",
              "      <th></th>\n",
              "      <th>MarketName</th>\n",
              "      <th>city</th>\n",
              "      <th>State</th>\n",
              "      <th>x</th>\n",
              "      <th>y</th>\n",
              "      <th>Credit</th>\n",
              "      <th>WIC</th>\n",
              "      <th>WICcash</th>\n",
              "      <th>SFMNP</th>\n",
              "      <th>SNAP</th>\n",
              "    </tr>\n",
              "  </thead>\n",
              "  <tbody>\n",
              "    <tr>\n",
              "      <th>4</th>\n",
              "      <td>112st Madison Avenue</td>\n",
              "      <td>New York</td>\n",
              "      <td>New York</td>\n",
              "      <td>-73.949303</td>\n",
              "      <td>40.793900</td>\n",
              "      <td>N</td>\n",
              "      <td>N</td>\n",
              "      <td>Y</td>\n",
              "      <td>Y</td>\n",
              "      <td>N</td>\n",
              "    </tr>\n",
              "    <tr>\n",
              "      <th>6</th>\n",
              "      <td>125th Street Fresh Connect Farmers' Market</td>\n",
              "      <td>New York</td>\n",
              "      <td>New York</td>\n",
              "      <td>-73.948250</td>\n",
              "      <td>40.808952</td>\n",
              "      <td>Y</td>\n",
              "      <td>Y</td>\n",
              "      <td>N</td>\n",
              "      <td>Y</td>\n",
              "      <td>Y</td>\n",
              "    </tr>\n",
              "    <tr>\n",
              "      <th>11</th>\n",
              "      <td>170 Farm Stand</td>\n",
              "      <td>Bronx</td>\n",
              "      <td>New York</td>\n",
              "      <td>-73.916786</td>\n",
              "      <td>40.839886</td>\n",
              "      <td>Y</td>\n",
              "      <td>N</td>\n",
              "      <td>Y</td>\n",
              "      <td>Y</td>\n",
              "      <td>Y</td>\n",
              "    </tr>\n",
              "    <tr>\n",
              "      <th>12</th>\n",
              "      <td>175th Street Greenmarket</td>\n",
              "      <td>New York</td>\n",
              "      <td>New York</td>\n",
              "      <td>-73.938049</td>\n",
              "      <td>40.846355</td>\n",
              "      <td>Y</td>\n",
              "      <td>Y</td>\n",
              "      <td>Y</td>\n",
              "      <td>Y</td>\n",
              "      <td>Y</td>\n",
              "    </tr>\n",
              "    <tr>\n",
              "      <th>35</th>\n",
              "      <td>441 Ministries Farm Stand</td>\n",
              "      <td>Rochester</td>\n",
              "      <td>New York</td>\n",
              "      <td>-77.566605</td>\n",
              "      <td>43.165833</td>\n",
              "      <td>Y</td>\n",
              "      <td>Y</td>\n",
              "      <td>N</td>\n",
              "      <td>N</td>\n",
              "      <td>Y</td>\n",
              "    </tr>\n",
              "    <tr>\n",
              "      <th>...</th>\n",
              "      <td>...</td>\n",
              "      <td>...</td>\n",
              "      <td>...</td>\n",
              "      <td>...</td>\n",
              "      <td>...</td>\n",
              "      <td>...</td>\n",
              "      <td>...</td>\n",
              "      <td>...</td>\n",
              "      <td>...</td>\n",
              "      <td>...</td>\n",
              "    </tr>\n",
              "    <tr>\n",
              "      <th>8711</th>\n",
              "      <td>Woodstock Farm Festival</td>\n",
              "      <td>Woodstock</td>\n",
              "      <td>New York</td>\n",
              "      <td>-74.117836</td>\n",
              "      <td>42.040524</td>\n",
              "      <td>Y</td>\n",
              "      <td>Y</td>\n",
              "      <td>Y</td>\n",
              "      <td>Y</td>\n",
              "      <td>Y</td>\n",
              "    </tr>\n",
              "    <tr>\n",
              "      <th>8733</th>\n",
              "      <td>Wyckoff Farmhouse Farmers' Market</td>\n",
              "      <td>Brooklyn</td>\n",
              "      <td>New York</td>\n",
              "      <td>-73.920601</td>\n",
              "      <td>40.644699</td>\n",
              "      <td>N</td>\n",
              "      <td>N</td>\n",
              "      <td>N</td>\n",
              "      <td>N</td>\n",
              "      <td>N</td>\n",
              "    </tr>\n",
              "    <tr>\n",
              "      <th>8743</th>\n",
              "      <td>YALE Farmers Market</td>\n",
              "      <td>Hempstead</td>\n",
              "      <td>New York</td>\n",
              "      <td>-73.615974</td>\n",
              "      <td>40.696568</td>\n",
              "      <td>Y</td>\n",
              "      <td>Y</td>\n",
              "      <td>N</td>\n",
              "      <td>Y</td>\n",
              "      <td>Y</td>\n",
              "    </tr>\n",
              "    <tr>\n",
              "      <th>8749</th>\n",
              "      <td>Yates County Cooperative Farm and Craft Market...</td>\n",
              "      <td>Penn Yan</td>\n",
              "      <td>New York</td>\n",
              "      <td>-77.053886</td>\n",
              "      <td>42.661346</td>\n",
              "      <td>Y</td>\n",
              "      <td>Y</td>\n",
              "      <td>N</td>\n",
              "      <td>Y</td>\n",
              "      <td>N</td>\n",
              "    </tr>\n",
              "    <tr>\n",
              "      <th>8774</th>\n",
              "      <td>Yorktown Farmers Market</td>\n",
              "      <td>Yorktown Heights</td>\n",
              "      <td>New York</td>\n",
              "      <td>-73.807846</td>\n",
              "      <td>41.327068</td>\n",
              "      <td>Y</td>\n",
              "      <td>N</td>\n",
              "      <td>N</td>\n",
              "      <td>N</td>\n",
              "      <td>N</td>\n",
              "    </tr>\n",
              "  </tbody>\n",
              "</table>\n",
              "<p>719 rows × 10 columns</p>\n",
              "</div>"
            ],
            "text/plain": [
              "                                             MarketName  ... SNAP\n",
              "4                                  112st Madison Avenue  ...    N\n",
              "6            125th Street Fresh Connect Farmers' Market  ...    Y\n",
              "11                                       170 Farm Stand  ...    Y\n",
              "12                             175th Street Greenmarket  ...    Y\n",
              "35                            441 Ministries Farm Stand  ...    Y\n",
              "...                                                 ...  ...  ...\n",
              "8711                            Woodstock Farm Festival  ...    Y\n",
              "8733                  Wyckoff Farmhouse Farmers' Market  ...    N\n",
              "8743                                YALE Farmers Market  ...    Y\n",
              "8749  Yates County Cooperative Farm and Craft Market...  ...    N\n",
              "8774                            Yorktown Farmers Market  ...    N\n",
              "\n",
              "[719 rows x 10 columns]"
            ]
          },
          "metadata": {
            "tags": []
          },
          "execution_count": 59
        }
      ]
    },
    {
      "cell_type": "code",
      "metadata": {
        "id": "QvzLbgbWZDqC"
      },
      "source": [
        "farm = farm[farm.State != 'Virgin Islands']"
      ],
      "execution_count": null,
      "outputs": []
    },
    {
      "cell_type": "code",
      "metadata": {
        "id": "sI4dXwubZDtw"
      },
      "source": [
        "farm = farm[farm.State != 'Puerto Rico']"
      ],
      "execution_count": null,
      "outputs": []
    },
    {
      "cell_type": "code",
      "metadata": {
        "id": "uOjKh9R1ZUyb",
        "colab": {
          "base_uri": "https://localhost:8080/",
          "height": 34
        },
        "outputId": "f8d60184-d362-472c-dbc7-a4bbbc4244d7"
      },
      "source": [
        "farm['State'].nunique()"
      ],
      "execution_count": null,
      "outputs": [
        {
          "output_type": "execute_result",
          "data": {
            "text/plain": [
              "1"
            ]
          },
          "metadata": {
            "tags": []
          },
          "execution_count": 62
        }
      ]
    },
    {
      "cell_type": "code",
      "metadata": {
        "id": "Wkv5IdIDYKht",
        "colab": {
          "base_uri": "https://localhost:8080/",
          "height": 402
        },
        "outputId": "886d4ce3-fa04-4f4d-9751-36e188619a4f"
      },
      "source": [
        "farm"
      ],
      "execution_count": null,
      "outputs": [
        {
          "output_type": "execute_result",
          "data": {
            "text/html": [
              "<div>\n",
              "<style scoped>\n",
              "    .dataframe tbody tr th:only-of-type {\n",
              "        vertical-align: middle;\n",
              "    }\n",
              "\n",
              "    .dataframe tbody tr th {\n",
              "        vertical-align: top;\n",
              "    }\n",
              "\n",
              "    .dataframe thead th {\n",
              "        text-align: right;\n",
              "    }\n",
              "</style>\n",
              "<table border=\"1\" class=\"dataframe\">\n",
              "  <thead>\n",
              "    <tr style=\"text-align: right;\">\n",
              "      <th></th>\n",
              "      <th>MarketName</th>\n",
              "      <th>city</th>\n",
              "      <th>State</th>\n",
              "      <th>x</th>\n",
              "      <th>y</th>\n",
              "      <th>Credit</th>\n",
              "      <th>WIC</th>\n",
              "      <th>WICcash</th>\n",
              "      <th>SFMNP</th>\n",
              "      <th>SNAP</th>\n",
              "    </tr>\n",
              "  </thead>\n",
              "  <tbody>\n",
              "    <tr>\n",
              "      <th>4</th>\n",
              "      <td>112st Madison Avenue</td>\n",
              "      <td>New York</td>\n",
              "      <td>New York</td>\n",
              "      <td>-73.949303</td>\n",
              "      <td>40.793900</td>\n",
              "      <td>N</td>\n",
              "      <td>N</td>\n",
              "      <td>Y</td>\n",
              "      <td>Y</td>\n",
              "      <td>N</td>\n",
              "    </tr>\n",
              "    <tr>\n",
              "      <th>6</th>\n",
              "      <td>125th Street Fresh Connect Farmers' Market</td>\n",
              "      <td>New York</td>\n",
              "      <td>New York</td>\n",
              "      <td>-73.948250</td>\n",
              "      <td>40.808952</td>\n",
              "      <td>Y</td>\n",
              "      <td>Y</td>\n",
              "      <td>N</td>\n",
              "      <td>Y</td>\n",
              "      <td>Y</td>\n",
              "    </tr>\n",
              "    <tr>\n",
              "      <th>11</th>\n",
              "      <td>170 Farm Stand</td>\n",
              "      <td>Bronx</td>\n",
              "      <td>New York</td>\n",
              "      <td>-73.916786</td>\n",
              "      <td>40.839886</td>\n",
              "      <td>Y</td>\n",
              "      <td>N</td>\n",
              "      <td>Y</td>\n",
              "      <td>Y</td>\n",
              "      <td>Y</td>\n",
              "    </tr>\n",
              "    <tr>\n",
              "      <th>12</th>\n",
              "      <td>175th Street Greenmarket</td>\n",
              "      <td>New York</td>\n",
              "      <td>New York</td>\n",
              "      <td>-73.938049</td>\n",
              "      <td>40.846355</td>\n",
              "      <td>Y</td>\n",
              "      <td>Y</td>\n",
              "      <td>Y</td>\n",
              "      <td>Y</td>\n",
              "      <td>Y</td>\n",
              "    </tr>\n",
              "    <tr>\n",
              "      <th>35</th>\n",
              "      <td>441 Ministries Farm Stand</td>\n",
              "      <td>Rochester</td>\n",
              "      <td>New York</td>\n",
              "      <td>-77.566605</td>\n",
              "      <td>43.165833</td>\n",
              "      <td>Y</td>\n",
              "      <td>Y</td>\n",
              "      <td>N</td>\n",
              "      <td>N</td>\n",
              "      <td>Y</td>\n",
              "    </tr>\n",
              "    <tr>\n",
              "      <th>...</th>\n",
              "      <td>...</td>\n",
              "      <td>...</td>\n",
              "      <td>...</td>\n",
              "      <td>...</td>\n",
              "      <td>...</td>\n",
              "      <td>...</td>\n",
              "      <td>...</td>\n",
              "      <td>...</td>\n",
              "      <td>...</td>\n",
              "      <td>...</td>\n",
              "    </tr>\n",
              "    <tr>\n",
              "      <th>8711</th>\n",
              "      <td>Woodstock Farm Festival</td>\n",
              "      <td>Woodstock</td>\n",
              "      <td>New York</td>\n",
              "      <td>-74.117836</td>\n",
              "      <td>42.040524</td>\n",
              "      <td>Y</td>\n",
              "      <td>Y</td>\n",
              "      <td>Y</td>\n",
              "      <td>Y</td>\n",
              "      <td>Y</td>\n",
              "    </tr>\n",
              "    <tr>\n",
              "      <th>8733</th>\n",
              "      <td>Wyckoff Farmhouse Farmers' Market</td>\n",
              "      <td>Brooklyn</td>\n",
              "      <td>New York</td>\n",
              "      <td>-73.920601</td>\n",
              "      <td>40.644699</td>\n",
              "      <td>N</td>\n",
              "      <td>N</td>\n",
              "      <td>N</td>\n",
              "      <td>N</td>\n",
              "      <td>N</td>\n",
              "    </tr>\n",
              "    <tr>\n",
              "      <th>8743</th>\n",
              "      <td>YALE Farmers Market</td>\n",
              "      <td>Hempstead</td>\n",
              "      <td>New York</td>\n",
              "      <td>-73.615974</td>\n",
              "      <td>40.696568</td>\n",
              "      <td>Y</td>\n",
              "      <td>Y</td>\n",
              "      <td>N</td>\n",
              "      <td>Y</td>\n",
              "      <td>Y</td>\n",
              "    </tr>\n",
              "    <tr>\n",
              "      <th>8749</th>\n",
              "      <td>Yates County Cooperative Farm and Craft Market...</td>\n",
              "      <td>Penn Yan</td>\n",
              "      <td>New York</td>\n",
              "      <td>-77.053886</td>\n",
              "      <td>42.661346</td>\n",
              "      <td>Y</td>\n",
              "      <td>Y</td>\n",
              "      <td>N</td>\n",
              "      <td>Y</td>\n",
              "      <td>N</td>\n",
              "    </tr>\n",
              "    <tr>\n",
              "      <th>8774</th>\n",
              "      <td>Yorktown Farmers Market</td>\n",
              "      <td>Yorktown Heights</td>\n",
              "      <td>New York</td>\n",
              "      <td>-73.807846</td>\n",
              "      <td>41.327068</td>\n",
              "      <td>Y</td>\n",
              "      <td>N</td>\n",
              "      <td>N</td>\n",
              "      <td>N</td>\n",
              "      <td>N</td>\n",
              "    </tr>\n",
              "  </tbody>\n",
              "</table>\n",
              "<p>673 rows × 10 columns</p>\n",
              "</div>"
            ],
            "text/plain": [
              "                                             MarketName  ... SNAP\n",
              "4                                  112st Madison Avenue  ...    N\n",
              "6            125th Street Fresh Connect Farmers' Market  ...    Y\n",
              "11                                       170 Farm Stand  ...    Y\n",
              "12                             175th Street Greenmarket  ...    Y\n",
              "35                            441 Ministries Farm Stand  ...    Y\n",
              "...                                                 ...  ...  ...\n",
              "8711                            Woodstock Farm Festival  ...    Y\n",
              "8733                  Wyckoff Farmhouse Farmers' Market  ...    N\n",
              "8743                                YALE Farmers Market  ...    Y\n",
              "8749  Yates County Cooperative Farm and Craft Market...  ...    N\n",
              "8774                            Yorktown Farmers Market  ...    N\n",
              "\n",
              "[673 rows x 10 columns]"
            ]
          },
          "metadata": {
            "tags": []
          },
          "execution_count": 63
        }
      ]
    },
    {
      "cell_type": "code",
      "metadata": {
        "id": "C1ywzRW6gOJY"
      },
      "source": [
        "#Changing Yes and No to binary \n"
      ],
      "execution_count": null,
      "outputs": []
    },
    {
      "cell_type": "code",
      "metadata": {
        "id": "uiGuPu16Yn-Q"
      },
      "source": [
        "farm.Credit.replace(('yes', 'no'), (1, 0), inplace=True)"
      ],
      "execution_count": null,
      "outputs": []
    },
    {
      "cell_type": "code",
      "metadata": {
        "id": "-xEohA0DaN6e"
      },
      "source": [
        "farm.WIC.replace(('Y', 'N'), (1, 0), inplace=True)"
      ],
      "execution_count": null,
      "outputs": []
    },
    {
      "cell_type": "code",
      "metadata": {
        "id": "Me6Ijvu4avh7"
      },
      "source": [
        "farm.WICcash.replace(('Y', 'N'), (1, 0), inplace=True)"
      ],
      "execution_count": null,
      "outputs": []
    },
    {
      "cell_type": "code",
      "metadata": {
        "id": "ZV4yv1XXavvQ"
      },
      "source": [
        "farm.SNAP.replace(('Y', 'N'), (1, 0), inplace=True)"
      ],
      "execution_count": null,
      "outputs": []
    },
    {
      "cell_type": "code",
      "metadata": {
        "id": "8nBbmdHFav5M"
      },
      "source": [
        "farm.SFMNP.replace(('Y', 'N'), (1, 0), inplace=True)"
      ],
      "execution_count": null,
      "outputs": []
    },
    {
      "cell_type": "code",
      "metadata": {
        "id": "VfHA7-wKaMV1",
        "colab": {
          "base_uri": "https://localhost:8080/",
          "height": 402
        },
        "outputId": "09465519-6fe5-4e2c-c40f-156cf210af5e"
      },
      "source": [
        "farm"
      ],
      "execution_count": null,
      "outputs": [
        {
          "output_type": "execute_result",
          "data": {
            "text/html": [
              "<div>\n",
              "<style scoped>\n",
              "    .dataframe tbody tr th:only-of-type {\n",
              "        vertical-align: middle;\n",
              "    }\n",
              "\n",
              "    .dataframe tbody tr th {\n",
              "        vertical-align: top;\n",
              "    }\n",
              "\n",
              "    .dataframe thead th {\n",
              "        text-align: right;\n",
              "    }\n",
              "</style>\n",
              "<table border=\"1\" class=\"dataframe\">\n",
              "  <thead>\n",
              "    <tr style=\"text-align: right;\">\n",
              "      <th></th>\n",
              "      <th>MarketName</th>\n",
              "      <th>city</th>\n",
              "      <th>State</th>\n",
              "      <th>x</th>\n",
              "      <th>y</th>\n",
              "      <th>Credit</th>\n",
              "      <th>WIC</th>\n",
              "      <th>WICcash</th>\n",
              "      <th>SFMNP</th>\n",
              "      <th>SNAP</th>\n",
              "    </tr>\n",
              "  </thead>\n",
              "  <tbody>\n",
              "    <tr>\n",
              "      <th>4</th>\n",
              "      <td>112st Madison Avenue</td>\n",
              "      <td>New York</td>\n",
              "      <td>New York</td>\n",
              "      <td>-73.949303</td>\n",
              "      <td>40.793900</td>\n",
              "      <td>N</td>\n",
              "      <td>0</td>\n",
              "      <td>1</td>\n",
              "      <td>1</td>\n",
              "      <td>0</td>\n",
              "    </tr>\n",
              "    <tr>\n",
              "      <th>6</th>\n",
              "      <td>125th Street Fresh Connect Farmers' Market</td>\n",
              "      <td>New York</td>\n",
              "      <td>New York</td>\n",
              "      <td>-73.948250</td>\n",
              "      <td>40.808952</td>\n",
              "      <td>Y</td>\n",
              "      <td>1</td>\n",
              "      <td>0</td>\n",
              "      <td>1</td>\n",
              "      <td>1</td>\n",
              "    </tr>\n",
              "    <tr>\n",
              "      <th>11</th>\n",
              "      <td>170 Farm Stand</td>\n",
              "      <td>Bronx</td>\n",
              "      <td>New York</td>\n",
              "      <td>-73.916786</td>\n",
              "      <td>40.839886</td>\n",
              "      <td>Y</td>\n",
              "      <td>0</td>\n",
              "      <td>1</td>\n",
              "      <td>1</td>\n",
              "      <td>1</td>\n",
              "    </tr>\n",
              "    <tr>\n",
              "      <th>12</th>\n",
              "      <td>175th Street Greenmarket</td>\n",
              "      <td>New York</td>\n",
              "      <td>New York</td>\n",
              "      <td>-73.938049</td>\n",
              "      <td>40.846355</td>\n",
              "      <td>Y</td>\n",
              "      <td>1</td>\n",
              "      <td>1</td>\n",
              "      <td>1</td>\n",
              "      <td>1</td>\n",
              "    </tr>\n",
              "    <tr>\n",
              "      <th>35</th>\n",
              "      <td>441 Ministries Farm Stand</td>\n",
              "      <td>Rochester</td>\n",
              "      <td>New York</td>\n",
              "      <td>-77.566605</td>\n",
              "      <td>43.165833</td>\n",
              "      <td>Y</td>\n",
              "      <td>1</td>\n",
              "      <td>0</td>\n",
              "      <td>0</td>\n",
              "      <td>1</td>\n",
              "    </tr>\n",
              "    <tr>\n",
              "      <th>...</th>\n",
              "      <td>...</td>\n",
              "      <td>...</td>\n",
              "      <td>...</td>\n",
              "      <td>...</td>\n",
              "      <td>...</td>\n",
              "      <td>...</td>\n",
              "      <td>...</td>\n",
              "      <td>...</td>\n",
              "      <td>...</td>\n",
              "      <td>...</td>\n",
              "    </tr>\n",
              "    <tr>\n",
              "      <th>8711</th>\n",
              "      <td>Woodstock Farm Festival</td>\n",
              "      <td>Woodstock</td>\n",
              "      <td>New York</td>\n",
              "      <td>-74.117836</td>\n",
              "      <td>42.040524</td>\n",
              "      <td>Y</td>\n",
              "      <td>1</td>\n",
              "      <td>1</td>\n",
              "      <td>1</td>\n",
              "      <td>1</td>\n",
              "    </tr>\n",
              "    <tr>\n",
              "      <th>8733</th>\n",
              "      <td>Wyckoff Farmhouse Farmers' Market</td>\n",
              "      <td>Brooklyn</td>\n",
              "      <td>New York</td>\n",
              "      <td>-73.920601</td>\n",
              "      <td>40.644699</td>\n",
              "      <td>N</td>\n",
              "      <td>0</td>\n",
              "      <td>0</td>\n",
              "      <td>0</td>\n",
              "      <td>0</td>\n",
              "    </tr>\n",
              "    <tr>\n",
              "      <th>8743</th>\n",
              "      <td>YALE Farmers Market</td>\n",
              "      <td>Hempstead</td>\n",
              "      <td>New York</td>\n",
              "      <td>-73.615974</td>\n",
              "      <td>40.696568</td>\n",
              "      <td>Y</td>\n",
              "      <td>1</td>\n",
              "      <td>0</td>\n",
              "      <td>1</td>\n",
              "      <td>1</td>\n",
              "    </tr>\n",
              "    <tr>\n",
              "      <th>8749</th>\n",
              "      <td>Yates County Cooperative Farm and Craft Market...</td>\n",
              "      <td>Penn Yan</td>\n",
              "      <td>New York</td>\n",
              "      <td>-77.053886</td>\n",
              "      <td>42.661346</td>\n",
              "      <td>Y</td>\n",
              "      <td>1</td>\n",
              "      <td>0</td>\n",
              "      <td>1</td>\n",
              "      <td>0</td>\n",
              "    </tr>\n",
              "    <tr>\n",
              "      <th>8774</th>\n",
              "      <td>Yorktown Farmers Market</td>\n",
              "      <td>Yorktown Heights</td>\n",
              "      <td>New York</td>\n",
              "      <td>-73.807846</td>\n",
              "      <td>41.327068</td>\n",
              "      <td>Y</td>\n",
              "      <td>0</td>\n",
              "      <td>0</td>\n",
              "      <td>0</td>\n",
              "      <td>0</td>\n",
              "    </tr>\n",
              "  </tbody>\n",
              "</table>\n",
              "<p>673 rows × 10 columns</p>\n",
              "</div>"
            ],
            "text/plain": [
              "                                             MarketName  ... SNAP\n",
              "4                                  112st Madison Avenue  ...    0\n",
              "6            125th Street Fresh Connect Farmers' Market  ...    1\n",
              "11                                       170 Farm Stand  ...    1\n",
              "12                             175th Street Greenmarket  ...    1\n",
              "35                            441 Ministries Farm Stand  ...    1\n",
              "...                                                 ...  ...  ...\n",
              "8711                            Woodstock Farm Festival  ...    1\n",
              "8733                  Wyckoff Farmhouse Farmers' Market  ...    0\n",
              "8743                                YALE Farmers Market  ...    1\n",
              "8749  Yates County Cooperative Farm and Craft Market...  ...    0\n",
              "8774                            Yorktown Farmers Market  ...    0\n",
              "\n",
              "[673 rows x 10 columns]"
            ]
          },
          "metadata": {
            "tags": []
          },
          "execution_count": 70
        }
      ]
    },
    {
      "cell_type": "code",
      "metadata": {
        "id": "VlWu61Sia-5_",
        "colab": {
          "base_uri": "https://localhost:8080/",
          "height": 34
        },
        "outputId": "7da267fe-5394-429c-e7a6-3c036719acec"
      },
      "source": [
        "farm['city'].nunique()"
      ],
      "execution_count": null,
      "outputs": [
        {
          "output_type": "execute_result",
          "data": {
            "text/plain": [
              "407"
            ]
          },
          "metadata": {
            "tags": []
          },
          "execution_count": 71
        }
      ]
    },
    {
      "cell_type": "code",
      "metadata": {
        "id": "HVPnEShZgcUK"
      },
      "source": [
        "#Downloading my cleaned data so that my notebook isn't cluttered when I re-upload to graph it "
      ],
      "execution_count": null,
      "outputs": []
    },
    {
      "cell_type": "code",
      "metadata": {
        "id": "eHc9kIWlb60Y"
      },
      "source": [
        "farm.to_csv(r'C:\\Users\\surfb\\OneDrive\\Desktop\\farm.csv', header=True)"
      ],
      "execution_count": null,
      "outputs": []
    },
    {
      "cell_type": "code",
      "metadata": {
        "id": "YXx52rktb1Tb"
      },
      "source": [
        "import matplotlib.pyplot as plt\n"
      ],
      "execution_count": null,
      "outputs": []
    },
    {
      "cell_type": "code",
      "metadata": {
        "id": "7ssaot1tu4qP"
      },
      "source": [
        ""
      ],
      "execution_count": null,
      "outputs": []
    }
  ]
}